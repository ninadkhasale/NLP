{
 "cells": [
  {
   "cell_type": "code",
   "execution_count": 1,
   "metadata": {},
   "outputs": [],
   "source": [
    "import re\n",
    "import pandas as pd"
   ]
  },
  {
   "cell_type": "markdown",
   "metadata": {},
   "source": [
    "#building a parser model\n"
   ]
  },
  {
   "cell_type": "code",
   "execution_count": 2,
   "metadata": {},
   "outputs": [
    {
     "data": {
      "text/html": [
       "<div>\n",
       "<style scoped>\n",
       "    .dataframe tbody tr th:only-of-type {\n",
       "        vertical-align: middle;\n",
       "    }\n",
       "\n",
       "    .dataframe tbody tr th {\n",
       "        vertical-align: top;\n",
       "    }\n",
       "\n",
       "    .dataframe thead th {\n",
       "        text-align: right;\n",
       "    }\n",
       "</style>\n",
       "<table border=\"1\" class=\"dataframe\">\n",
       "  <thead>\n",
       "    <tr style=\"text-align: right;\">\n",
       "      <th></th>\n",
       "      <th>Input</th>\n",
       "      <th>Expected Output</th>\n",
       "    </tr>\n",
       "  </thead>\n",
       "  <tbody>\n",
       "    <tr>\n",
       "      <th>0</th>\n",
       "      <td>The event will take place on March 5, 2023.</td>\n",
       "      <td>05/03/2023</td>\n",
       "    </tr>\n",
       "    <tr>\n",
       "      <th>1</th>\n",
       "      <td>Her birthday is on 07/08/1990.</td>\n",
       "      <td>07/08/1990</td>\n",
       "    </tr>\n",
       "    <tr>\n",
       "      <th>2</th>\n",
       "      <td>The deadline is 2022-12-31.</td>\n",
       "      <td>31/12/2022</td>\n",
       "    </tr>\n",
       "    <tr>\n",
       "      <th>3</th>\n",
       "      <td>We met on 1st of January 2000.</td>\n",
       "      <td>01/01/2000</td>\n",
       "    </tr>\n",
       "    <tr>\n",
       "      <th>4</th>\n",
       "      <td>The concert is scheduled for 15th September, 2...</td>\n",
       "      <td>15/09/2021</td>\n",
       "    </tr>\n",
       "    <tr>\n",
       "      <th>...</th>\n",
       "      <td>...</td>\n",
       "      <td>...</td>\n",
       "    </tr>\n",
       "    <tr>\n",
       "      <th>95</th>\n",
       "      <td>We celebrate Independence Day on 2023-07-04, a...</td>\n",
       "      <td>04/07/2023</td>\n",
       "    </tr>\n",
       "    <tr>\n",
       "      <th>96</th>\n",
       "      <td>The final date for submission is 30th November...</td>\n",
       "      <td>30/11/2022</td>\n",
       "    </tr>\n",
       "    <tr>\n",
       "      <th>97</th>\n",
       "      <td>The annual conference is on 15th October 2023,...</td>\n",
       "      <td>15/10/2023</td>\n",
       "    </tr>\n",
       "    <tr>\n",
       "      <th>98</th>\n",
       "      <td>His birthdate, noted as 1990-05-20, is in the ...</td>\n",
       "      <td>20/05/1990</td>\n",
       "    </tr>\n",
       "    <tr>\n",
       "      <th>99</th>\n",
       "      <td>The festival will be celebrated on 12th August...</td>\n",
       "      <td>12/08/2024</td>\n",
       "    </tr>\n",
       "  </tbody>\n",
       "</table>\n",
       "<p>100 rows × 2 columns</p>\n",
       "</div>"
      ],
      "text/plain": [
       "                                                Input Expected Output\n",
       "0         The event will take place on March 5, 2023.      05/03/2023\n",
       "1                      Her birthday is on 07/08/1990.      07/08/1990\n",
       "2                         The deadline is 2022-12-31.      31/12/2022\n",
       "3                      We met on 1st of January 2000.      01/01/2000\n",
       "4   The concert is scheduled for 15th September, 2...      15/09/2021\n",
       "..                                                ...             ...\n",
       "95  We celebrate Independence Day on 2023-07-04, a...      04/07/2023\n",
       "96  The final date for submission is 30th November...      30/11/2022\n",
       "97  The annual conference is on 15th October 2023,...      15/10/2023\n",
       "98  His birthdate, noted as 1990-05-20, is in the ...      20/05/1990\n",
       "99  The festival will be celebrated on 12th August...      12/08/2024\n",
       "\n",
       "[100 rows x 2 columns]"
      ]
     },
     "execution_count": 2,
     "metadata": {},
     "output_type": "execute_result"
    }
   ],
   "source": [
    "df = pd.read_csv('date_parser_testcases.csv')\n",
    "df"
   ]
  },
  {
   "cell_type": "code",
   "execution_count": 3,
   "metadata": {},
   "outputs": [
    {
     "name": "stdout",
     "output_type": "stream",
     "text": [
      "07/08/1990.\n",
      "2022-12-31.\n",
      "02.04.2022.\n",
      "5/6/19.\n",
      "1987/11/23.\n",
      "1997-05-20,\n",
      "2021.11.10.\n",
      "12/12/12.\n",
      "08/31/2021.\n",
      "1995/10/30.\n",
      "01-01-2023.\n",
      "03/14/2022.\n",
      "31.08.2020.\n",
      "2020-02-28.\n",
      "12/25/2019.\n",
      "11.11.2021.\n",
      "2023/07/04.\n",
      "2021-09-09.\n",
      "1/2/2022.\n",
      "2022-10-10.\n",
      "10/10/2018.\n",
      "2020.12.15.\n",
      "31-12-2022.\n",
      "07/15/2021.\n",
      "2022-03-03.\n",
      "08/08/2020.\n",
      "2020/09/09.\n",
      "01.01.2022.\n",
      "2023-07-04.\n",
      "1990-05-20.\n",
      "07/08/1990,\n",
      "2022-12-31.\n",
      "02.04.2022\n",
      "5/6/19,\n",
      "1987/11/23,\n",
      "2021.11.10,\n",
      "12/12/12\n",
      "08/31/2021,\n",
      "1995/10/30\n",
      "01-01-2023\n",
      "03/14/2022,\n",
      "31.08.2020.\n",
      "2020-02-28.\n",
      "12/25/2019.\n",
      "11.11.2021.\n",
      "2023/07/04,\n",
      "2021-09-09.\n",
      "1/2/2022,\n",
      "2022-10-10,\n",
      "10/10/2018,\n",
      "2020.12.15,\n",
      "31-12-2022,\n",
      "07/15/2021,\n",
      "2022-03-03.\n",
      "08/08/2020.\n",
      "2020/09/09.\n",
      "01.01.2022,\n",
      "2023-07-04,\n",
      "1990-05-20,\n"
     ]
    }
   ],
   "source": [
    "# Case 1\n",
    "#* 01/01/2000 or 1/1/2000 or 01/01/00 or 1/1/00\n",
    "count = 0\n",
    "indexes_found = []\n",
    "for i in range(len(df)):\n",
    "    stringg = df.Input[i]\n",
    "    for word in stringg.split():\n",
    "        if re.search(r'\\d{1,2}.\\d{1,2}.\\d{2,4}', word):\n",
    "            print(word)\n",
    "            indexes_found.append(i)\n",
    "            count+=1"
   ]
  },
  {
   "cell_type": "code",
   "execution_count": 4,
   "metadata": {},
   "outputs": [
    {
     "data": {
      "text/plain": [
       "0.59"
      ]
     },
     "execution_count": 4,
     "metadata": {},
     "output_type": "execute_result"
    }
   ],
   "source": [
    "count/len(df)"
   ]
  },
  {
   "cell_type": "code",
   "execution_count": 5,
   "metadata": {},
   "outputs": [],
   "source": [
    "#* anything with month in words\n",
    "maybe = {}\n",
    "for i in df.Input:\n",
    "    if i not in indexes_found:\n",
    "        wordss = i.split()\n",
    "        for word in wordss:\n",
    "            #print(word.lower())\n",
    "            if re.search(r'(jan ?|feb ?|mar ?|apr ?|may ?|june ?|jul ?|aug ?|sep ?|oct ?|nov ?|dec ?)', word.lower()):\n",
    "                maybe[i] = word\n",
    "                # indexes_found.append(i)\n",
    "                # count+=1"
   ]
  },
  {
   "cell_type": "code",
   "execution_count": 6,
   "metadata": {},
   "outputs": [
    {
     "data": {
      "text/plain": [
       "{'The event will take place on March 5, 2023.': 'March',\n",
       " 'We met on 1st of January 2000.': 'January',\n",
       " 'The concert is scheduled for 15th September, 2021.': 'September,',\n",
       " 'Christmas is on 25th Dec 2024.': 'Dec',\n",
       " 'The meeting is set for April 03, 2020.': 'April',\n",
       " 'Her appointment is on the 2nd of March, 2021.': 'March,',\n",
       " 'They got married on 12/12/12.': 'married',\n",
       " 'The workshop is on February 15th, 2022.': 'February',\n",
       " 'The course starts on 1st July 2023.': 'July',\n",
       " 'Independence Day is on 4th of July, 2022.': 'July,',\n",
       " 'The holiday starts on Dec 20th, 2021.': 'Dec',\n",
       " 'The conference will be held on 5th May 2023.': 'May',\n",
       " 'The festival begins on March 17, 2022.': 'March',\n",
       " 'Her graduation is on May 30th, 2022.': 'May',\n",
       " 'His wedding is on 6th of August, 2020.': 'August,',\n",
       " 'She was born on 3rd March 1998.': 'March',\n",
       " 'The workshop is on February 29, 2024.': 'February',\n",
       " 'The tournament is on June 1st, 2021.': 'June',\n",
       " 'The last date is 30th November 2022.': 'November',\n",
       " 'The conference is on 15th October 2023.': 'October',\n",
       " 'The festival is on 12th August 2024.': 'August',\n",
       " 'We are planning to meet on March 5, 2023, for lunch.': 'March',\n",
       " 'We first met on the 1st of January 2000 at the conference.': 'January',\n",
       " 'The concert, happening on 15th September 2021, will be amazing.': 'September',\n",
       " 'We celebrate Christmas every year on 25th Dec, including 2024.': 'Dec,',\n",
       " 'The meeting is rescheduled to April 03, 2020, as per the latest update.': 'April',\n",
       " 'Their anniversary is marked on the 2nd of March, 2021.': 'March,',\n",
       " 'Our next workshop is scheduled for February 15th, 2022.': 'February',\n",
       " 'The course officially begins on 1st July 2023.': 'July',\n",
       " 'We celebrate Independence Day on the 4th of July every year, including 2022.': 'July',\n",
       " 'The holiday vacation starts on Dec 20th, 2021, for everyone.': 'Dec',\n",
       " 'The conference, marked for 5th May 2023, is a significant event.': 'May',\n",
       " 'Our festival starts on March 17, 2022, with a parade.': 'March',\n",
       " 'The big event is planned for 2023/07/04, so mark your calendars.': 'mark',\n",
       " 'Her graduation day is set for May 30th, 2022.': 'May',\n",
       " 'The wedding is on 6th of August, 2020, in the evening.': 'August,',\n",
       " 'She mentioned she was born on the 3rd of March 1998.': 'March',\n",
       " 'The next workshop is on February 29, 2024, due to the leap year.': 'February',\n",
       " 'The tournament begins on June 1st, 2021, early in the morning.': 'June',\n",
       " 'The final date for submission is 30th November 2022.': 'November',\n",
       " 'The annual conference is on 15th October 2023, mark your calendars.': 'mark',\n",
       " 'The festival will be celebrated on 12th August 2024, with grand events.': 'August'}"
      ]
     },
     "execution_count": 6,
     "metadata": {},
     "output_type": "execute_result"
    }
   ],
   "source": [
    "maybe"
   ]
  },
  {
   "cell_type": "code",
   "execution_count": 7,
   "metadata": {},
   "outputs": [],
   "source": [
    "shortlist = {}\n",
    "months = [\"january\", \"february\", \"march\", \"april\", \"may\", \"june\", \"july\", \"august\", \"september\", \"october\", \"november\", \"december\"]\n",
    "for key, word in maybe.items():\n",
    "    if len(word) >= 3 and word.lower() in months:\n",
    "        shortlist[key] = word\n",
    "        count+=1\n",
    "        continue\n",
    "    elif len(word) == 3:\n",
    "        shortlist[key] = word\n",
    "        count+=1\n",
    "        \n",
    "\n",
    "        "
   ]
  },
  {
   "cell_type": "code",
   "execution_count": 16,
   "metadata": {},
   "outputs": [
    {
     "data": {
      "text/plain": [
       "{'The event will take place on March 5, 2023.': 'March',\n",
       " 'We met on 1st of January 2000.': 'January',\n",
       " 'Christmas is on 25th Dec 2024.': 'Dec',\n",
       " 'The meeting is set for April 03, 2020.': 'April',\n",
       " 'The workshop is on February 15th, 2022.': 'February',\n",
       " 'The course starts on 1st July 2023.': 'July',\n",
       " 'The holiday starts on Dec 20th, 2021.': 'Dec',\n",
       " 'The conference will be held on 5th May 2023.': 'May',\n",
       " 'The festival begins on March 17, 2022.': 'March',\n",
       " 'Her graduation is on May 30th, 2022.': 'May',\n",
       " 'She was born on 3rd March 1998.': 'March',\n",
       " 'The workshop is on February 29, 2024.': 'February',\n",
       " 'The tournament is on June 1st, 2021.': 'June',\n",
       " 'The last date is 30th November 2022.': 'November',\n",
       " 'The conference is on 15th October 2023.': 'October',\n",
       " 'The festival is on 12th August 2024.': 'August',\n",
       " 'We are planning to meet on March 5, 2023, for lunch.': 'March',\n",
       " 'We first met on the 1st of January 2000 at the conference.': 'January',\n",
       " 'The concert, happening on 15th September 2021, will be amazing.': 'September',\n",
       " 'The meeting is rescheduled to April 03, 2020, as per the latest update.': 'April',\n",
       " 'Our next workshop is scheduled for February 15th, 2022.': 'February',\n",
       " 'The course officially begins on 1st July 2023.': 'July',\n",
       " 'We celebrate Independence Day on the 4th of July every year, including 2022.': 'July',\n",
       " 'The holiday vacation starts on Dec 20th, 2021, for everyone.': 'Dec',\n",
       " 'The conference, marked for 5th May 2023, is a significant event.': 'May',\n",
       " 'Our festival starts on March 17, 2022, with a parade.': 'March',\n",
       " 'Her graduation day is set for May 30th, 2022.': 'May',\n",
       " 'She mentioned she was born on the 3rd of March 1998.': 'March',\n",
       " 'The next workshop is on February 29, 2024, due to the leap year.': 'February',\n",
       " 'The tournament begins on June 1st, 2021, early in the morning.': 'June',\n",
       " 'The final date for submission is 30th November 2022.': 'November',\n",
       " 'The festival will be celebrated on 12th August 2024, with grand events.': 'August'}"
      ]
     },
     "execution_count": 16,
     "metadata": {},
     "output_type": "execute_result"
    }
   ],
   "source": [
    "shortlist"
   ]
  },
  {
   "cell_type": "code",
   "execution_count": 17,
   "metadata": {},
   "outputs": [],
   "source": [
    "#\n",
    "#* anything with month in words and year\n",
    "maybe = {}\n",
    "for i in df.Input:\n",
    "    if i not in indexes_found:\n",
    "        wordss = i.split()\n",
    "        for word in wordss:\n",
    "            #print(word.lower())\n",
    "            if re.search(r'(jan ?|feb ?|mar ?|apr ?|may ?|june ?|jul ?|aug ?|sep ?|oct ?|nov ?|dec ?)', word.lower()):\n",
    "                maybe[i] = word\n",
    "                # indexes_found.append(i)\n",
    "                # count+=1  \n",
    "                "
   ]
  },
  {
   "cell_type": "code",
   "execution_count": 18,
   "metadata": {},
   "outputs": [],
   "source": [
    "\n",
    "shortlist = {}\n",
    "months = [\"january\", \"february\", \"march\", \"april\", \"may\", \"june\", \"july\", \"august\", \"september\", \"october\", \"november\", \"december\"]\n",
    "for key, word in maybe.items():\n",
    "    if len(word) >= 3 and word.lower() in months:\n",
    "        shortlist[key] = word\n",
    "        count+=1\n",
    "        continue\n",
    "    elif len(word) == 3:\n",
    "        shortlist[key] = word\n",
    "        count+=1\n",
    "        "
   ]
  },
  {
   "cell_type": "code",
   "execution_count": null,
   "metadata": {},
   "outputs": [],
   "source": [
    "\n"
   ]
  },
  {
   "cell_type": "code",
   "execution_count": 9,
   "metadata": {},
   "outputs": [
    {
     "data": {
      "text/plain": [
       "0.91"
      ]
     },
     "execution_count": 9,
     "metadata": {},
     "output_type": "execute_result"
    }
   ],
   "source": [
    "# Find num num Month or num Month num or Month num num\n",
    "count/len(df)"
   ]
  },
  {
   "cell_type": "code",
   "execution_count": 10,
   "metadata": {},
   "outputs": [],
   "source": [
    "def month_name_to_number(month):\n",
    "    months = {\n",
    "        \"jan\": \"01\", \"january\": \"01\",\n",
    "        \"feb\": \"02\", \"february\": \"02\",\n",
    "        \"mar\": \"03\", \"march\": \"03\",\n",
    "        \"apr\": \"04\", \"april\": \"04\",\n",
    "        \"may\": \"05\",\n",
    "        \"jun\": \"06\", \"june\": \"06\",\n",
    "        \"jul\": \"07\", \"july\": \"07\",\n",
    "        \"aug\": \"08\", \"august\": \"08\",\n",
    "        \"sep\": \"09\", \"september\": \"09\",\n",
    "        \"oct\": \"10\", \"october\": \"10\",\n",
    "        \"nov\": \"11\", \"november\": \"11\",\n",
    "        \"dec\": \"12\", \"december\": \"12\"\n",
    "    }\n",
    "    return months.get(month.lower(), None)\n",
    "\n",
    "\n",
    "\n",
    "\n"
   ]
  },
  {
   "cell_type": "code",
   "execution_count": 11,
   "metadata": {},
   "outputs": [],
   "source": [
    "def ensure_full_year(year):\n",
    "    if len(year) == 2:\n",
    "        if int(year) <= int(str(pd.Timestamp.now().year)[-2:]):\n",
    "            return \"20\" + year  \n",
    "        else:\n",
    "            return \"19\" + year \n",
    "    return year"
   ]
  },
  {
   "cell_type": "code",
   "execution_count": 12,
   "metadata": {},
   "outputs": [
    {
     "name": "stdout",
     "output_type": "stream",
     "text": [
      "                                                Input Expected Output  \\\n",
      "0         The event will take place on March 5, 2023.      05/03/2023   \n",
      "1                      Her birthday is on 07/08/1990.      07/08/1990   \n",
      "2                         The deadline is 2022-12-31.      31/12/2022   \n",
      "3                      We met on 1st of January 2000.      01/01/2000   \n",
      "4   The concert is scheduled for 15th September, 2...      15/09/2021   \n",
      "..                                                ...             ...   \n",
      "95  We celebrate Independence Day on 2023-07-04, a...      04/07/2023   \n",
      "96  The final date for submission is 30th November...      30/11/2022   \n",
      "97  The annual conference is on 15th October 2023,...      15/10/2023   \n",
      "98  His birthdate, noted as 1990-05-20, is in the ...      20/05/1990   \n",
      "99  The festival will be celebrated on 12th August...      12/08/2024   \n",
      "\n",
      "   parsed_date  \n",
      "0   05/03/2023  \n",
      "1   08/07/1990  \n",
      "2   31/12/2022  \n",
      "3   01/01/2000  \n",
      "4   15/09/2021  \n",
      "..         ...  \n",
      "95  04/07/2023  \n",
      "96  30/11/2022  \n",
      "97  15/10/2023  \n",
      "98  20/05/1990  \n",
      "99  12/08/2024  \n",
      "\n",
      "[100 rows x 3 columns]\n"
     ]
    }
   ],
   "source": [
    "def parse_date(text):\n",
    "    \n",
    "    patterns = [\n",
    "        \n",
    "        r\"(\\d{1,2})(st|nd|rd|th)?\\s+of\\s+([A-Za-z]+)\\s*,?\\s*(\\d{4})\",\n",
    "        r\"(\\d{1,2})(st|nd|rd|th)?\\s+of\\s+([A-Za-z]+)\\s+(\\d{4})\",\n",
    "        r\"(\\d{1,2})(st|nd|rd|th)?\\s+([A-Za-z]+)\\s*,?\\s*(\\d{4})\",  # e.g., 21st June 2024\n",
    "        r\"([A-Za-z]+)\\s+(\\d{1,2})(st|nd|rd|th)?\\s*,?\\s*(\\d{4})\",  # e.g., June 21st 2024\n",
    "\n",
    "        \n",
    "        r\"(\\d{1,2})/(\\d{1,2})/(\\d{4})\",  # e.g., 25/12/2023\n",
    "        r\"(\\d{1,2})-(\\d{1,2})-(\\d{4})\",  # e.g., 25-12-2023\n",
    "        r\"(\\d{1,2})\\.(\\d{1,2})\\.(\\d{4})\",  # e.g., 25.12.2023\n",
    "        r\"(\\d{4})/(\\d{1,2})/(\\d{1,2})\",  # e.g., 2023/12/25 (Year first)\n",
    "        r\"(\\d{4})-(\\d{1,2})-(\\d{1,2})\",  # e.g., 2023-12-25 (Year first)\n",
    "        r\"(\\d{1,2})/(\\d{1,2})/(\\d{2})\",  # e.g., 25/12/19\n",
    "\n",
    "        r\"(\\d{4})\\.(\\d{1,2})\\.(\\d{1,2})\",\n",
    "        r\"(\\d{4})/(\\d{1,2})/(\\d{1,2})\",  # e.g., 2023/12/25\n",
    "        r\"(\\d{4})-(\\d{1,2})-(\\d{1,2})\",\n",
    "        \n",
    "        \n",
    "        r\"([A-Za-z]+)\\s+(\\d{1,2})(st|nd|rd|th)?,?\\s+(\\d{4})\",  # e.g., June 21, 2024\n",
    "        r\"(\\d{4})\\s+([A-Za-z]+)\\s+(\\d{1,2})(st|nd|rd|th)?\",  # e.g., 2024 June 21\n",
    "        \n",
    "       \n",
    "        r\"(\\d{1,2})/(\\d{1,2})/(\\d{2})\",  # e.g., 5/6/19\n",
    "        r\"(\\d{1,2})/(\\d{1,2})/(\\d{4})\",  # e.g., 08/31/2021\n",
    "        r\"(\\d{1,2})(st|nd|rd|th)?\\s+of\\s+([A-Za-z]+)\\s*,?\\s*including\\s+(\\d{4})\",  # e.g., 25th Dec, including 2024\n",
    "        r\"(\\d{1,2})(st|nd|rd|th)?\\s+of\\s+([A-Za-z]+)\\s+every\\s+year(?:,\\s+including\\s+(\\d{4}))?\"  # e.g., 4th of July every year, including 2022\n",
    "    ]\n",
    "    \n",
    "    for pattern in patterns:\n",
    "        match = re.search(pattern, text)\n",
    "        if match:\n",
    "            try:\n",
    "                \n",
    "                if pattern == r\"(\\d{1,2})/(\\d{1,2})/(\\d{4})\":\n",
    "                    month, day, year = match.groups()\n",
    "                    month, day = month.zfill(2), day.zfill(2)\n",
    "                    return f\"{day}/{month}/{year}\"\n",
    "                \n",
    "                if pattern == r\"(\\d{1,2})(st|nd|rd|th)?\\s+of\\s+([A-Za-z]+)\\s*,?\\s*including\\s+(\\d{4})\":\n",
    "                    day, month, year = match.groups()[0], match.groups()[2], match.groups()[3]\n",
    "                    day = day.zfill(2)  \n",
    "                    month = month_name_to_number(month)  \n",
    "                    return f\"{day}/{month}/{year}\"\n",
    "                \n",
    "                if pattern == r\"(\\d{1,2})(st|nd|rd|th)?\\s+of\\s+([A-Za-z]+)\\s+every\\s+year(?:,\\s+including\\s+(\\d{4}))?\":\n",
    "                    day, month, year = match.groups()[0], match.groups()[2], match.groups()[3]\n",
    "                    day = day.zfill(2)\n",
    "                    month = month_name_to_number(month)\n",
    "                    if not year:\n",
    "                        year = datetime.now().year\n",
    "                    else:\n",
    "                        year = ensure_full_year(year)\n",
    "                    return f\"{day}/{month}/{year}\"\n",
    "                \n",
    "                \n",
    "                if len(match.groups()) == 4:  \n",
    "                    day = match.group(1) if pattern.startswith(r\"(\\d{1,2})\") else match.group(2)\n",
    "                    day = day.zfill(2)\n",
    "                    month = match.group(3) if pattern.startswith(r\"(\\d{1,2})\") else match.group(1)\n",
    "                    if month.isdigit():  \n",
    "                        month = month.zfill(2)\n",
    "                    else:  \n",
    "                        month = month_name_to_number(month)\n",
    "                    year = match.group(4) if pattern.startswith(r\"(\\d{1,2})\") else match.group(4)\n",
    "                else:  \n",
    "                    if pattern.startswith(r\"(\\d{4})\"):  \n",
    "                        year, month, day = match.group(1), match.group(2).zfill(2), match.group(3).zfill(2)\n",
    "                    else:  \n",
    "                        day, month, year = match.group(1).zfill(2), match.group(2).zfill(2), match.group(3)\n",
    "\n",
    "                \n",
    "                if year and len(year) == 2:\n",
    "                    year = ensure_full_year(year)\n",
    "                if month and len(month) == 1:\n",
    "                    month = f\"0{month}\"\n",
    "                if day and len(day) == 1:\n",
    "                    day = f\"0{day}\"\n",
    "                \n",
    "                return f\"{day}/{month}/{year}\"\n",
    "            except Exception as e:\n",
    "                print(f\"Error parsing date '{text}': {e}\")\n",
    "    \n",
    "    return None\n",
    "\n",
    "\n",
    "df['parsed_date'] = df['Input'].apply(parse_date)\n",
    "\n",
    "\n",
    "print(df)"
   ]
  },
  {
   "cell_type": "code",
   "execution_count": 13,
   "metadata": {},
   "outputs": [
    {
     "name": "stdout",
     "output_type": "stream",
     "text": [
      "07/08/1990\n"
     ]
    }
   ],
   "source": [
    "# Function to get expected output\n",
    "def expected_output(input):\n",
    "    return df[df['Input'] == input]['Expected Output'].values[0]\n",
    "\n",
    "#testing\n",
    "print(expected_output(df['Input'][1]))"
   ]
  },
  {
   "cell_type": "code",
   "execution_count": 14,
   "metadata": {},
   "outputs": [
    {
     "name": "stdout",
     "output_type": "stream",
     "text": [
      "0.94\n",
      "Her birthday is on 07/08/1990. 08/07/1990 07/08/1990\n",
      "The interview is on 1/2/2022. 02/01/2022 01/02/2022\n",
      "Input None Expected Output\n",
      "Her birthday, which she celebrates on 07/08/1990, is coming up soon. 08/07/1990 07/08/1990\n",
      "We celebrate Christmas every year on 25th Dec, including 2024. None 25/12/2024\n",
      "The job interview is on 1/2/2022, don't be late. 02/01/2022 01/02/2022\n"
     ]
    }
   ],
   "source": [
    "#if expected output is equal to parsed date then it is correct give percentage of correct answers\n",
    "correct = 0\n",
    "for i in range(len(df)):\n",
    "    if expected_output(df['Input'][i]) == df['parsed_date'][i]:\n",
    "        correct += 1\n",
    "print(correct/len(df))\n",
    "\n",
    "#print the misatches\n",
    "for i in range(len(df)):\n",
    "    if expected_output(df['Input'][i]) != df['parsed_date'][i]:\n",
    "        print(df['Input'][i], df['parsed_date'][i], expected_output(df['Input'][i]))\n",
    "\n",
    "\n"
   ]
  },
  {
   "cell_type": "code",
   "execution_count": null,
   "metadata": {},
   "outputs": [],
   "source": []
  },
  {
   "cell_type": "code",
   "execution_count": null,
   "metadata": {},
   "outputs": [],
   "source": []
  },
  {
   "cell_type": "code",
   "execution_count": null,
   "metadata": {},
   "outputs": [],
   "source": []
  },
  {
   "cell_type": "code",
   "execution_count": null,
   "metadata": {},
   "outputs": [],
   "source": []
  }
 ],
 "metadata": {
  "kernelspec": {
   "display_name": "streamlit",
   "language": "python",
   "name": "python3"
  },
  "language_info": {
   "codemirror_mode": {
    "name": "ipython",
    "version": 3
   },
   "file_extension": ".py",
   "mimetype": "text/x-python",
   "name": "python",
   "nbconvert_exporter": "python",
   "pygments_lexer": "ipython3",
   "version": "3.11.4"
  }
 },
 "nbformat": 4,
 "nbformat_minor": 2
}
